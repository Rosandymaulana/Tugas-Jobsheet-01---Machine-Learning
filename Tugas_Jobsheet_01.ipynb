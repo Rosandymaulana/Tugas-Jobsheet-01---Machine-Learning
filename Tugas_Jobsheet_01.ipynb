{
 "cells": [
  {
   "cell_type": "code",
   "execution_count": 3,
   "metadata": {},
   "outputs": [],
   "source": [
    "import pandas as pd\n",
    "from sklearn.feature_extraction.text import TfidfVectorizer\n"
   ]
  },
  {
   "cell_type": "code",
   "execution_count": 4,
   "metadata": {},
   "outputs": [],
   "source": [
    "dataFile = open('orange.txt', 'r').read()\n",
    "data = dataFile.replace(':', '').replace(',', '').replace(\"-\", '').split('.')\n",
    "\n",
    "vect = TfidfVectorizer(stop_words='english')\n",
    "resp = vect.fit_transform(data)\n",
    "headr = vect.get_feature_names_out()\n",
    "pd.DataFrame(resp.todense()).to_csv('result.csv', header=headr)\n"
   ]
  },
  {
   "cell_type": "code",
   "execution_count": null,
   "metadata": {},
   "outputs": [],
   "source": []
  }
 ],
 "metadata": {
  "kernelspec": {
   "display_name": "Python 3.9.12 ('base')",
   "language": "python",
   "name": "python3"
  },
  "language_info": {
   "codemirror_mode": {
    "name": "ipython",
    "version": 3
   },
   "file_extension": ".py",
   "mimetype": "text/x-python",
   "name": "python",
   "nbconvert_exporter": "python",
   "pygments_lexer": "ipython3",
   "version": "3.9.12"
  },
  "orig_nbformat": 4,
  "vscode": {
   "interpreter": {
    "hash": "a15b155823f799dad9206cfe859342d7b9315d5930bb58b49fbf46708bb50627"
   }
  }
 },
 "nbformat": 4,
 "nbformat_minor": 2
}
