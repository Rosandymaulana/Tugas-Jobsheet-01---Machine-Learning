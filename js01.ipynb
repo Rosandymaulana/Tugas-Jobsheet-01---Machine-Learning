{
 "cells": [
  {
   "cell_type": "code",
   "execution_count": 1,
   "metadata": {},
   "outputs": [],
   "source": [
    "def norm_feature(data):\n",
    "    n_max = max(data)\n",
    "    n_min = min(data)\n",
    "    l_data = len(data)\n",
    " \n",
    "    for i in range(0,l_data):\n",
    "        data[i] = (data[i] -n_min) / (n_max - n_min)\n",
    "\n",
    "    return data"
   ]
  },
  {
   "cell_type": "code",
   "execution_count": 2,
   "metadata": {},
   "outputs": [
    {
     "data": {
      "text/plain": [
       "[0.0, 0.375, 0.125, 0.5, 1.0]"
      ]
     },
     "execution_count": 2,
     "metadata": {},
     "output_type": "execute_result"
    }
   ],
   "source": [
    "data = [10, 25, 15, 30, 50]\n",
    "\n",
    "n_data = norm_feature(data)\n",
    "n_data "
   ]
  },
  {
   "cell_type": "code",
   "execution_count": 3,
   "metadata": {},
   "outputs": [],
   "source": [
    "import numpy as np\n",
    "from sklearn.preprocessing import MinMaxScaler"
   ]
  },
  {
   "cell_type": "code",
   "execution_count": 4,
   "metadata": {},
   "outputs": [
    {
     "data": {
      "text/plain": [
       "array([[1.        , 0.11111111],\n",
       "       [0.        , 1.        ],\n",
       "       [0.45652174, 0.        ]])"
      ]
     },
     "execution_count": 4,
     "metadata": {},
     "output_type": "execute_result"
    }
   ],
   "source": [
    "data = [\n",
    "    [100, 0.01],\n",
    "    [8, 0.05],\n",
    "    [50, 0.005],\n",
    "]\n",
    "\n",
    "np_data = np.asarray(data)\n",
    "mm_scaler = MinMaxScaler()\n",
    "mm_data = mm_scaler.fit_transform(data)\n",
    "mm_data"
   ]
  },
  {
   "cell_type": "code",
   "execution_count": 5,
   "metadata": {},
   "outputs": [],
   "source": [
    "from statistics import mean,stdev\n",
    "\n",
    "def std_feature(data):\n",
    "    baris_data = data.shape[0]\n",
    "    kolom_data = data.shape[1]\n",
    "\n",
    "    for i in range(0, baris_data):\n",
    "        for j in range(0, kolom_data):\n",
    "            data[i][j] = (data[i,j] - mean(data[:, j])) / stdev(data[:,j])\n",
    "\n",
    "    return data\n"
   ]
  },
  {
   "cell_type": "code",
   "execution_count": 6,
   "metadata": {},
   "outputs": [
    {
     "data": {
      "text/plain": [
       "array([[ 1.13053908, -1.04102352],\n",
       "       [-0.58585228,  0.43340554],\n",
       "       [ 0.54596936,  0.16378374],\n",
       "       [ 1.78715622,  0.2189989 ],\n",
       "       [ 1.53764773,  0.21485145]])"
      ]
     },
     "execution_count": 6,
     "metadata": {},
     "output_type": "execute_result"
    }
   ],
   "source": [
    "data = [\n",
    "    [100, 0.001],\n",
    "    [8, 0.05],\n",
    "    [50, 0.005],\n",
    "    [88, 0.07],\n",
    "    [4, 0.1]\n",
    "]\n",
    "\n",
    "data = np.array(data)\n",
    "std_data = std_feature(data)\n",
    "std_data"
   ]
  },
  {
   "cell_type": "code",
   "execution_count": 7,
   "metadata": {},
   "outputs": [
    {
     "name": "stdout",
     "output_type": "stream",
     "text": [
      "[[ 0.29249575 -1.96885878]\n",
      " [-1.73637127  0.8250468 ]\n",
      " [-0.39849714  0.31413861]\n",
      " [ 1.06865257  0.4187662 ]\n",
      " [ 0.77372009  0.41090717]]\n"
     ]
    }
   ],
   "source": [
    "from sklearn.preprocessing import StandardScaler\n",
    "\n",
    "ss_scaler = StandardScaler()\n",
    "\n",
    "std_data = ss_scaler.fit_transform(data)\n",
    "print(std_data)"
   ]
  },
  {
   "cell_type": "code",
   "execution_count": 22,
   "metadata": {},
   "outputs": [
    {
     "name": "stdout",
     "output_type": "stream",
     "text": [
      "[[4.]\n",
      " [0.]\n",
      " [1.]\n",
      " [2.]\n",
      " [3.]]\n"
     ]
    }
   ],
   "source": [
    "from sklearn.preprocessing import OrdinalEncoder, OneHotEncoder\n",
    "\n",
    "data = [\n",
    "    [\"POLINEMA\"],\n",
    "    [\"PENS\"],\n",
    "    [\"PNJ\"],\n",
    "    [\"PNP\"],\n",
    "    [\"POLBAN\"]\n",
    "]\n",
    "\n",
    "encoder = OrdinalEncoder()\n",
    "ord_oe = encoder.fit_transform(data)\n",
    "\n",
    "print(ord_oe)\n"
   ]
  },
  {
   "cell_type": "code",
   "execution_count": 23,
   "metadata": {},
   "outputs": [
    {
     "name": "stdout",
     "output_type": "stream",
     "text": [
      "[[0. 0. 0. 0. 1.]\n",
      " [1. 0. 0. 0. 0.]\n",
      " [0. 1. 0. 0. 0.]\n",
      " [0. 0. 1. 0. 0.]\n",
      " [0. 0. 0. 1. 0.]]\n"
     ]
    }
   ],
   "source": [
    "from sklearn.preprocessing import OrdinalEncoder, OneHotEncoder\n",
    "\n",
    "data = [\n",
    "    [\"POLINEMA\"],\n",
    "    [\"PENS\"],\n",
    "    [\"PNJ\"],\n",
    "    [\"PNP\"],\n",
    "    [\"POLBAN\"]\n",
    "]\n",
    "\n",
    "encoder = OneHotEncoder(sparse=False)\n",
    "ord_oe = encoder.fit_transform(data)\n",
    "\n",
    "print(ord_oe)\n"
   ]
  },
  {
   "cell_type": "code",
   "execution_count": 56,
   "metadata": {},
   "outputs": [
    {
     "name": "stdout",
     "output_type": "stream",
     "text": [
      "['ate' 'away' 'cat' 'end' 'finally' 'house' 'little' 'mouse' 'ran' 'saw'\n",
      " 'story' 'tiny']\n",
      "[[0.         0.         0.         0.         0.         0.4755751\n",
      "  0.58946308 0.28088232 0.         0.         0.         0.58946308]\n",
      " [0.         0.         0.58873218 0.         0.         0.\n",
      "  0.         0.34771471 0.         0.72971837 0.         0.        ]\n",
      " [0.         0.58946308 0.         0.         0.         0.4755751\n",
      "  0.         0.28088232 0.58946308 0.         0.         0.        ]\n",
      " [0.58946308 0.         0.4755751  0.         0.58946308 0.\n",
      "  0.         0.28088232 0.         0.         0.         0.        ]\n",
      " [0.         0.         0.         0.67009179 0.         0.\n",
      "  0.         0.31930233 0.         0.         0.67009179 0.        ]]\n"
     ]
    }
   ],
   "source": [
    "from sklearn.feature_extraction.text import TfidfVectorizer\n",
    "\n",
    "corpus = [\n",
    "    'the house had a tiny little mouse',\n",
    "    'the cat saw the mouse',\n",
    "    'the mouse ran away from the house',\n",
    "    'the cat finally ate the mouse',\n",
    "    'the end of the mouse story'\n",
    "]\n",
    "\n",
    "print(vectorizer.get_feature_names_out())\n",
    "print(data.toarray())\n"
   ]
  },
  {
   "cell_type": "code",
   "execution_count": null,
   "metadata": {},
   "outputs": [],
   "source": []
  }
 ],
 "metadata": {
  "kernelspec": {
   "display_name": "Python 3.9.12 ('base')",
   "language": "python",
   "name": "python3"
  },
  "language_info": {
   "codemirror_mode": {
    "name": "ipython",
    "version": 3
   },
   "file_extension": ".py",
   "mimetype": "text/x-python",
   "name": "python",
   "nbconvert_exporter": "python",
   "pygments_lexer": "ipython3",
   "version": "3.9.12"
  },
  "orig_nbformat": 4,
  "vscode": {
   "interpreter": {
    "hash": "a15b155823f799dad9206cfe859342d7b9315d5930bb58b49fbf46708bb50627"
   }
  }
 },
 "nbformat": 4,
 "nbformat_minor": 2
}
